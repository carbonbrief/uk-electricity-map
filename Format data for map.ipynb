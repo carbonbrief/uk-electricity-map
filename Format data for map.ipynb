{
 "cells": [
  {
   "cell_type": "code",
   "execution_count": 1,
   "metadata": {},
   "outputs": [],
   "source": [
    "import pandas as pd\n",
    "import numpy as np"
   ]
  },
  {
   "cell_type": "code",
   "execution_count": 2,
   "metadata": {},
   "outputs": [
    {
     "name": "stdout",
     "output_type": "stream",
     "text": [
      "/Users/rosamund/Documents/GitHub/uk-electricity-map\n"
     ]
    }
   ],
   "source": [
    "import os\n",
    "cwd = os.getcwd()\n",
    "print(cwd)"
   ]
  },
  {
   "cell_type": "code",
   "execution_count": 3,
   "metadata": {
    "scrolled": false
   },
   "outputs": [
    {
     "data": {
      "text/html": [
       "<div>\n",
       "<style scoped>\n",
       "    .dataframe tbody tr th:only-of-type {\n",
       "        vertical-align: middle;\n",
       "    }\n",
       "\n",
       "    .dataframe tbody tr th {\n",
       "        vertical-align: top;\n",
       "    }\n",
       "\n",
       "    .dataframe thead th {\n",
       "        text-align: right;\n",
       "    }\n",
       "</style>\n",
       "<table border=\"1\" class=\"dataframe\">\n",
       "  <thead>\n",
       "    <tr style=\"text-align: right;\">\n",
       "      <th></th>\n",
       "      <th>Site</th>\n",
       "      <th>Company</th>\n",
       "      <th>Fuel</th>\n",
       "      <th>Type</th>\n",
       "      <th>Capacity (MW)</th>\n",
       "      <th>Latitude</th>\n",
       "      <th>Longitude</th>\n",
       "      <th>Low-Carbon</th>\n",
       "      <th>CHP</th>\n",
       "      <th>Year Open</th>\n",
       "      <th>yearStart</th>\n",
       "      <th>yearEnd</th>\n",
       "    </tr>\n",
       "  </thead>\n",
       "  <tbody>\n",
       "    <tr>\n",
       "      <th>0</th>\n",
       "      <td>Aberdare District Energy</td>\n",
       "      <td>EDF Energy</td>\n",
       "      <td>Gas</td>\n",
       "      <td>NaN</td>\n",
       "      <td>10.0</td>\n",
       "      <td>51.697527</td>\n",
       "      <td>-3.416181</td>\n",
       "      <td>No</td>\n",
       "      <td>NaN</td>\n",
       "      <td>2002.0</td>\n",
       "      <td>2005.0</td>\n",
       "      <td>2014</td>\n",
       "    </tr>\n",
       "    <tr>\n",
       "      <th>1</th>\n",
       "      <td>Aberthaw B</td>\n",
       "      <td>RWE Npower Plc</td>\n",
       "      <td>Coal</td>\n",
       "      <td>NaN</td>\n",
       "      <td>1455.0</td>\n",
       "      <td>51.387006</td>\n",
       "      <td>-3.406215</td>\n",
       "      <td>No</td>\n",
       "      <td>NaN</td>\n",
       "      <td>1971.0</td>\n",
       "      <td>2004.0</td>\n",
       "      <td>2007</td>\n",
       "    </tr>\n",
       "    <tr>\n",
       "      <th>2</th>\n",
       "      <td>Aberthaw B</td>\n",
       "      <td>RWE Npower Plc</td>\n",
       "      <td>Coal</td>\n",
       "      <td>NaN</td>\n",
       "      <td>1586.0</td>\n",
       "      <td>51.387006</td>\n",
       "      <td>-3.406215</td>\n",
       "      <td>No</td>\n",
       "      <td>NaN</td>\n",
       "      <td>1971.0</td>\n",
       "      <td>2008.0</td>\n",
       "      <td>2017</td>\n",
       "    </tr>\n",
       "  </tbody>\n",
       "</table>\n",
       "</div>"
      ],
      "text/plain": [
       "                       Site         Company  Fuel Type  Capacity (MW)  \\\n",
       "0  Aberdare District Energy      EDF Energy   Gas  NaN           10.0   \n",
       "1                Aberthaw B  RWE Npower Plc  Coal  NaN         1455.0   \n",
       "2                Aberthaw B  RWE Npower Plc  Coal  NaN         1586.0   \n",
       "\n",
       "    Latitude  Longitude Low-Carbon  CHP  Year Open  yearStart  yearEnd  \n",
       "0  51.697527  -3.416181         No  NaN     2002.0     2005.0     2014  \n",
       "1  51.387006  -3.406215         No  NaN     1971.0     2004.0     2007  \n",
       "2  51.387006  -3.406215         No  NaN     1971.0     2008.0     2017  "
      ]
     },
     "execution_count": 3,
     "metadata": {},
     "output_type": "execute_result"
    }
   ],
   "source": [
    "df1 = pd.read_csv((cwd + \"/uk-map.csv\"))\n",
    "df1.head(3)"
   ]
  },
  {
   "cell_type": "code",
   "execution_count": 4,
   "metadata": {
    "scrolled": false
   },
   "outputs": [
    {
     "data": {
      "text/html": [
       "<div>\n",
       "<style scoped>\n",
       "    .dataframe tbody tr th:only-of-type {\n",
       "        vertical-align: middle;\n",
       "    }\n",
       "\n",
       "    .dataframe tbody tr th {\n",
       "        vertical-align: top;\n",
       "    }\n",
       "\n",
       "    .dataframe thead th {\n",
       "        text-align: right;\n",
       "    }\n",
       "</style>\n",
       "<table border=\"1\" class=\"dataframe\">\n",
       "  <thead>\n",
       "    <tr style=\"text-align: right;\">\n",
       "      <th></th>\n",
       "      <th>Site</th>\n",
       "      <th>Company</th>\n",
       "      <th>Fuel</th>\n",
       "      <th>Type</th>\n",
       "      <th>Capacity (MW)</th>\n",
       "      <th>Latitude</th>\n",
       "      <th>Longitude</th>\n",
       "      <th>Low-Carbon</th>\n",
       "      <th>CHP</th>\n",
       "      <th>Year Open</th>\n",
       "      <th>yearStart</th>\n",
       "      <th>yearEnd</th>\n",
       "    </tr>\n",
       "  </thead>\n",
       "  <tbody>\n",
       "    <tr>\n",
       "      <th>6970</th>\n",
       "      <td>Vital Energi</td>\n",
       "      <td>NaN</td>\n",
       "      <td>Gas</td>\n",
       "      <td>Gas turbine</td>\n",
       "      <td>4.560</td>\n",
       "      <td>NaN</td>\n",
       "      <td>NaN</td>\n",
       "      <td>No</td>\n",
       "      <td>Yes</td>\n",
       "      <td>NaN</td>\n",
       "      <td>2008.0</td>\n",
       "      <td>2019</td>\n",
       "    </tr>\n",
       "    <tr>\n",
       "      <th>6971</th>\n",
       "      <td>Weetabix</td>\n",
       "      <td>NaN</td>\n",
       "      <td>Gas</td>\n",
       "      <td>Reciprocating engine</td>\n",
       "      <td>6.058</td>\n",
       "      <td>NaN</td>\n",
       "      <td>NaN</td>\n",
       "      <td>No</td>\n",
       "      <td>Yes</td>\n",
       "      <td>NaN</td>\n",
       "      <td>2008.0</td>\n",
       "      <td>2019</td>\n",
       "    </tr>\n",
       "    <tr>\n",
       "      <th>6972</th>\n",
       "      <td>Wepa Ltd</td>\n",
       "      <td>NaN</td>\n",
       "      <td>Gas</td>\n",
       "      <td>Gas turbine</td>\n",
       "      <td>9.000</td>\n",
       "      <td>NaN</td>\n",
       "      <td>NaN</td>\n",
       "      <td>No</td>\n",
       "      <td>Yes</td>\n",
       "      <td>NaN</td>\n",
       "      <td>2008.0</td>\n",
       "      <td>2019</td>\n",
       "    </tr>\n",
       "  </tbody>\n",
       "</table>\n",
       "</div>"
      ],
      "text/plain": [
       "              Site Company Fuel                  Type  Capacity (MW)  \\\n",
       "6970  Vital Energi     NaN  Gas           Gas turbine          4.560   \n",
       "6971      Weetabix     NaN  Gas  Reciprocating engine          6.058   \n",
       "6972      Wepa Ltd     NaN  Gas           Gas turbine          9.000   \n",
       "\n",
       "      Latitude  Longitude Low-Carbon  CHP  Year Open  yearStart  yearEnd  \n",
       "6970       NaN        NaN         No  Yes        NaN     2008.0     2019  \n",
       "6971       NaN        NaN         No  Yes        NaN     2008.0     2019  \n",
       "6972       NaN        NaN         No  Yes        NaN     2008.0     2019  "
      ]
     },
     "execution_count": 4,
     "metadata": {},
     "output_type": "execute_result"
    }
   ],
   "source": [
    "df1.tail(3)"
   ]
  },
  {
   "cell_type": "code",
   "execution_count": 5,
   "metadata": {},
   "outputs": [
    {
     "data": {
      "text/plain": [
       "(6973, 12)"
      ]
     },
     "execution_count": 5,
     "metadata": {},
     "output_type": "execute_result"
    }
   ],
   "source": [
    "#think appearance of excess rows may due to Simon's treament of the data carrying across\n",
    "#update: it's an issue with how Simon exported the CSV at row 1770\n",
    "\n",
    "df1.shape"
   ]
  },
  {
   "cell_type": "code",
   "execution_count": 6,
   "metadata": {
    "scrolled": true
   },
   "outputs": [
    {
     "data": {
      "text/html": [
       "<div>\n",
       "<style scoped>\n",
       "    .dataframe tbody tr th:only-of-type {\n",
       "        vertical-align: middle;\n",
       "    }\n",
       "\n",
       "    .dataframe tbody tr th {\n",
       "        vertical-align: top;\n",
       "    }\n",
       "\n",
       "    .dataframe thead th {\n",
       "        text-align: right;\n",
       "    }\n",
       "</style>\n",
       "<table border=\"1\" class=\"dataframe\">\n",
       "  <thead>\n",
       "    <tr style=\"text-align: right;\">\n",
       "      <th></th>\n",
       "      <th>Site</th>\n",
       "      <th>Company</th>\n",
       "      <th>Fuel</th>\n",
       "      <th>Type</th>\n",
       "      <th>Capacity (MW)</th>\n",
       "      <th>Latitude</th>\n",
       "      <th>Longitude</th>\n",
       "      <th>Low-Carbon</th>\n",
       "      <th>CHP</th>\n",
       "      <th>Year Open</th>\n",
       "      <th>yearStart</th>\n",
       "      <th>yearEnd</th>\n",
       "    </tr>\n",
       "  </thead>\n",
       "  <tbody>\n",
       "    <tr>\n",
       "      <th>6970</th>\n",
       "      <td>Vital Energi</td>\n",
       "      <td>NaN</td>\n",
       "      <td>Gas</td>\n",
       "      <td>Gas turbine</td>\n",
       "      <td>4.560</td>\n",
       "      <td>NaN</td>\n",
       "      <td>NaN</td>\n",
       "      <td>No</td>\n",
       "      <td>Yes</td>\n",
       "      <td>NaN</td>\n",
       "      <td>2008.0</td>\n",
       "      <td>2019</td>\n",
       "    </tr>\n",
       "    <tr>\n",
       "      <th>6971</th>\n",
       "      <td>Weetabix</td>\n",
       "      <td>NaN</td>\n",
       "      <td>Gas</td>\n",
       "      <td>Reciprocating engine</td>\n",
       "      <td>6.058</td>\n",
       "      <td>NaN</td>\n",
       "      <td>NaN</td>\n",
       "      <td>No</td>\n",
       "      <td>Yes</td>\n",
       "      <td>NaN</td>\n",
       "      <td>2008.0</td>\n",
       "      <td>2019</td>\n",
       "    </tr>\n",
       "    <tr>\n",
       "      <th>6972</th>\n",
       "      <td>Wepa Ltd</td>\n",
       "      <td>NaN</td>\n",
       "      <td>Gas</td>\n",
       "      <td>Gas turbine</td>\n",
       "      <td>9.000</td>\n",
       "      <td>NaN</td>\n",
       "      <td>NaN</td>\n",
       "      <td>No</td>\n",
       "      <td>Yes</td>\n",
       "      <td>NaN</td>\n",
       "      <td>2008.0</td>\n",
       "      <td>2019</td>\n",
       "    </tr>\n",
       "  </tbody>\n",
       "</table>\n",
       "</div>"
      ],
      "text/plain": [
       "              Site Company Fuel                  Type  Capacity (MW)  \\\n",
       "6970  Vital Energi     NaN  Gas           Gas turbine          4.560   \n",
       "6971      Weetabix     NaN  Gas  Reciprocating engine          6.058   \n",
       "6972      Wepa Ltd     NaN  Gas           Gas turbine          9.000   \n",
       "\n",
       "      Latitude  Longitude Low-Carbon  CHP  Year Open  yearStart  yearEnd  \n",
       "6970       NaN        NaN         No  Yes        NaN     2008.0     2019  \n",
       "6971       NaN        NaN         No  Yes        NaN     2008.0     2019  \n",
       "6972       NaN        NaN         No  Yes        NaN     2008.0     2019  "
      ]
     },
     "execution_count": 6,
     "metadata": {},
     "output_type": "execute_result"
    }
   ],
   "source": [
    "df1.tail(3)"
   ]
  },
  {
   "cell_type": "code",
   "execution_count": 7,
   "metadata": {},
   "outputs": [
    {
     "data": {
      "text/html": [
       "<div>\n",
       "<style scoped>\n",
       "    .dataframe tbody tr th:only-of-type {\n",
       "        vertical-align: middle;\n",
       "    }\n",
       "\n",
       "    .dataframe tbody tr th {\n",
       "        vertical-align: top;\n",
       "    }\n",
       "\n",
       "    .dataframe thead th {\n",
       "        text-align: right;\n",
       "    }\n",
       "</style>\n",
       "<table border=\"1\" class=\"dataframe\">\n",
       "  <thead>\n",
       "    <tr style=\"text-align: right;\">\n",
       "      <th></th>\n",
       "      <th>site</th>\n",
       "      <th>operator</th>\n",
       "      <th>type</th>\n",
       "      <th>fuelDetail</th>\n",
       "      <th>capacity</th>\n",
       "      <th>latitude</th>\n",
       "      <th>longitude</th>\n",
       "      <th>lowCarbon</th>\n",
       "      <th>chp</th>\n",
       "      <th>yearOpen</th>\n",
       "      <th>yearStart</th>\n",
       "      <th>yearEnd</th>\n",
       "    </tr>\n",
       "  </thead>\n",
       "  <tbody>\n",
       "    <tr>\n",
       "      <th>0</th>\n",
       "      <td>Aberdare District Energy</td>\n",
       "      <td>EDF Energy</td>\n",
       "      <td>Gas</td>\n",
       "      <td>NaN</td>\n",
       "      <td>10.0</td>\n",
       "      <td>51.697527</td>\n",
       "      <td>-3.416181</td>\n",
       "      <td>No</td>\n",
       "      <td>NaN</td>\n",
       "      <td>2002.0</td>\n",
       "      <td>2005.0</td>\n",
       "      <td>2014</td>\n",
       "    </tr>\n",
       "    <tr>\n",
       "      <th>1</th>\n",
       "      <td>Aberthaw B</td>\n",
       "      <td>RWE Npower Plc</td>\n",
       "      <td>Coal</td>\n",
       "      <td>NaN</td>\n",
       "      <td>1455.0</td>\n",
       "      <td>51.387006</td>\n",
       "      <td>-3.406215</td>\n",
       "      <td>No</td>\n",
       "      <td>NaN</td>\n",
       "      <td>1971.0</td>\n",
       "      <td>2004.0</td>\n",
       "      <td>2007</td>\n",
       "    </tr>\n",
       "    <tr>\n",
       "      <th>2</th>\n",
       "      <td>Aberthaw B</td>\n",
       "      <td>RWE Npower Plc</td>\n",
       "      <td>Coal</td>\n",
       "      <td>NaN</td>\n",
       "      <td>1586.0</td>\n",
       "      <td>51.387006</td>\n",
       "      <td>-3.406215</td>\n",
       "      <td>No</td>\n",
       "      <td>NaN</td>\n",
       "      <td>1971.0</td>\n",
       "      <td>2008.0</td>\n",
       "      <td>2017</td>\n",
       "    </tr>\n",
       "  </tbody>\n",
       "</table>\n",
       "</div>"
      ],
      "text/plain": [
       "                       site        operator  type fuelDetail  capacity  \\\n",
       "0  Aberdare District Energy      EDF Energy   Gas        NaN      10.0   \n",
       "1                Aberthaw B  RWE Npower Plc  Coal        NaN    1455.0   \n",
       "2                Aberthaw B  RWE Npower Plc  Coal        NaN    1586.0   \n",
       "\n",
       "    latitude  longitude lowCarbon  chp  yearOpen  yearStart  yearEnd  \n",
       "0  51.697527  -3.416181        No  NaN    2002.0     2005.0     2014  \n",
       "1  51.387006  -3.406215        No  NaN    1971.0     2004.0     2007  \n",
       "2  51.387006  -3.406215        No  NaN    1971.0     2008.0     2017  "
      ]
     },
     "execution_count": 7,
     "metadata": {},
     "output_type": "execute_result"
    }
   ],
   "source": [
    "df2 = df1.rename(index=str, columns={\"Site\": \"site\", \"Company\": \"operator\", \"Fuel\": \"type\", \"Type\": \"fuelDetail\", \"Capacity (MW)\": \"capacity\", \"Latitude\": \"latitude\", \"Longitude\": \"longitude\", \"Low-Carbon\": \"lowCarbon\", \"CHP\": \"chp\", \"Year Open\": \"yearOpen\", \"yearStart\": \"yearStart\", \"yearEnd\": \"yearEnd\"})\n",
    "df2.head(3)"
   ]
  },
  {
   "cell_type": "code",
   "execution_count": 8,
   "metadata": {},
   "outputs": [
    {
     "data": {
      "text/html": [
       "<div>\n",
       "<style scoped>\n",
       "    .dataframe tbody tr th:only-of-type {\n",
       "        vertical-align: middle;\n",
       "    }\n",
       "\n",
       "    .dataframe tbody tr th {\n",
       "        vertical-align: top;\n",
       "    }\n",
       "\n",
       "    .dataframe thead th {\n",
       "        text-align: right;\n",
       "    }\n",
       "</style>\n",
       "<table border=\"1\" class=\"dataframe\">\n",
       "  <thead>\n",
       "    <tr style=\"text-align: right;\">\n",
       "      <th></th>\n",
       "      <th>site</th>\n",
       "      <th>operator</th>\n",
       "      <th>type</th>\n",
       "      <th>fuelDetail</th>\n",
       "      <th>capacity</th>\n",
       "      <th>latitude</th>\n",
       "      <th>longitude</th>\n",
       "      <th>lowCarbon</th>\n",
       "      <th>chp</th>\n",
       "      <th>yearOpen</th>\n",
       "      <th>yearStart</th>\n",
       "      <th>yearEnd</th>\n",
       "    </tr>\n",
       "  </thead>\n",
       "  <tbody>\n",
       "    <tr>\n",
       "      <th>6970</th>\n",
       "      <td>Vital Energi</td>\n",
       "      <td>NaN</td>\n",
       "      <td>Gas</td>\n",
       "      <td>Gas turbine</td>\n",
       "      <td>4.560</td>\n",
       "      <td>NaN</td>\n",
       "      <td>NaN</td>\n",
       "      <td>No</td>\n",
       "      <td>Yes</td>\n",
       "      <td>NaN</td>\n",
       "      <td>2008.0</td>\n",
       "      <td>2019</td>\n",
       "    </tr>\n",
       "    <tr>\n",
       "      <th>6971</th>\n",
       "      <td>Weetabix</td>\n",
       "      <td>NaN</td>\n",
       "      <td>Gas</td>\n",
       "      <td>Reciprocating engine</td>\n",
       "      <td>6.058</td>\n",
       "      <td>NaN</td>\n",
       "      <td>NaN</td>\n",
       "      <td>No</td>\n",
       "      <td>Yes</td>\n",
       "      <td>NaN</td>\n",
       "      <td>2008.0</td>\n",
       "      <td>2019</td>\n",
       "    </tr>\n",
       "    <tr>\n",
       "      <th>6972</th>\n",
       "      <td>Wepa Ltd</td>\n",
       "      <td>NaN</td>\n",
       "      <td>Gas</td>\n",
       "      <td>Gas turbine</td>\n",
       "      <td>9.000</td>\n",
       "      <td>NaN</td>\n",
       "      <td>NaN</td>\n",
       "      <td>No</td>\n",
       "      <td>Yes</td>\n",
       "      <td>NaN</td>\n",
       "      <td>2008.0</td>\n",
       "      <td>2019</td>\n",
       "    </tr>\n",
       "  </tbody>\n",
       "</table>\n",
       "</div>"
      ],
      "text/plain": [
       "              site operator type            fuelDetail  capacity  latitude  \\\n",
       "6970  Vital Energi      NaN  Gas           Gas turbine     4.560       NaN   \n",
       "6971      Weetabix      NaN  Gas  Reciprocating engine     6.058       NaN   \n",
       "6972      Wepa Ltd      NaN  Gas           Gas turbine     9.000       NaN   \n",
       "\n",
       "      longitude lowCarbon  chp  yearOpen  yearStart  yearEnd  \n",
       "6970        NaN        No  Yes       NaN     2008.0     2019  \n",
       "6971        NaN        No  Yes       NaN     2008.0     2019  \n",
       "6972        NaN        No  Yes       NaN     2008.0     2019  "
      ]
     },
     "execution_count": 8,
     "metadata": {},
     "output_type": "execute_result"
    }
   ],
   "source": [
    "df2.tail(3)"
   ]
  },
  {
   "cell_type": "code",
   "execution_count": 9,
   "metadata": {},
   "outputs": [
    {
     "data": {
      "text/plain": [
       "192"
      ]
     },
     "execution_count": 9,
     "metadata": {},
     "output_type": "execute_result"
    }
   ],
   "source": [
    "#find out if any nulls for long/lat\n",
    "sum(df2['longitude'].isna())"
   ]
  },
  {
   "cell_type": "code",
   "execution_count": 10,
   "metadata": {},
   "outputs": [
    {
     "data": {
      "text/plain": [
       "0"
      ]
     },
     "execution_count": 10,
     "metadata": {},
     "output_type": "execute_result"
    }
   ],
   "source": [
    "#drop rows where longitude is blank\n",
    "\n",
    "df2 = df2.dropna(subset=['longitude'])\n",
    "sum(df2['longitude'].isna())"
   ]
  },
  {
   "cell_type": "code",
   "execution_count": 11,
   "metadata": {},
   "outputs": [
    {
     "data": {
      "text/plain": [
       "0"
      ]
     },
     "execution_count": 11,
     "metadata": {},
     "output_type": "execute_result"
    }
   ],
   "source": [
    "#check latitude doesn't have NaN either\n",
    "\n",
    "sum(df2['latitude'].isna())"
   ]
  },
  {
   "cell_type": "code",
   "execution_count": 12,
   "metadata": {},
   "outputs": [
    {
     "data": {
      "text/plain": [
       "1"
      ]
     },
     "execution_count": 12,
     "metadata": {},
     "output_type": "execute_result"
    }
   ],
   "source": [
    "#find out if any nulls for capacity\n",
    "sum(df2['capacity'].isna())"
   ]
  },
  {
   "cell_type": "code",
   "execution_count": 13,
   "metadata": {},
   "outputs": [
    {
     "data": {
      "text/plain": [
       "0"
      ]
     },
     "execution_count": 13,
     "metadata": {},
     "output_type": "execute_result"
    }
   ],
   "source": [
    "#drop rows where capacity is blank\n",
    "\n",
    "df2 = df2.dropna(subset=['capacity'])\n",
    "sum(df2['capacity'].isna())"
   ]
  },
  {
   "cell_type": "code",
   "execution_count": 14,
   "metadata": {},
   "outputs": [
    {
     "data": {
      "text/plain": [
       "(6780, 12)"
      ]
     },
     "execution_count": 14,
     "metadata": {},
     "output_type": "execute_result"
    }
   ],
   "source": [
    "#shape as expected\n",
    "df2.shape"
   ]
  },
  {
   "cell_type": "code",
   "execution_count": 15,
   "metadata": {},
   "outputs": [
    {
     "data": {
      "text/html": [
       "<div>\n",
       "<style scoped>\n",
       "    .dataframe tbody tr th:only-of-type {\n",
       "        vertical-align: middle;\n",
       "    }\n",
       "\n",
       "    .dataframe tbody tr th {\n",
       "        vertical-align: top;\n",
       "    }\n",
       "\n",
       "    .dataframe thead th {\n",
       "        text-align: right;\n",
       "    }\n",
       "</style>\n",
       "<table border=\"1\" class=\"dataframe\">\n",
       "  <thead>\n",
       "    <tr style=\"text-align: right;\">\n",
       "      <th></th>\n",
       "      <th>site</th>\n",
       "      <th>operator</th>\n",
       "      <th>type</th>\n",
       "      <th>fuelDetail</th>\n",
       "      <th>capacity</th>\n",
       "      <th>latitude</th>\n",
       "      <th>longitude</th>\n",
       "      <th>lowCarbon</th>\n",
       "      <th>chp</th>\n",
       "      <th>yearOpen</th>\n",
       "      <th>yearStart</th>\n",
       "      <th>yearEnd</th>\n",
       "    </tr>\n",
       "  </thead>\n",
       "  <tbody>\n",
       "    <tr>\n",
       "      <th>85</th>\n",
       "      <td>Drax</td>\n",
       "      <td>Drax Power Ltd</td>\n",
       "      <td>Coal</td>\n",
       "      <td>NaN</td>\n",
       "      <td>3870.0</td>\n",
       "      <td>53.737546</td>\n",
       "      <td>-0.999021</td>\n",
       "      <td>No</td>\n",
       "      <td>NaN</td>\n",
       "      <td>1974.0</td>\n",
       "      <td>2004.0</td>\n",
       "      <td>2012</td>\n",
       "    </tr>\n",
       "    <tr>\n",
       "      <th>91</th>\n",
       "      <td>Drax coal</td>\n",
       "      <td>Drax Power Ltd</td>\n",
       "      <td>Coal</td>\n",
       "      <td>NaN</td>\n",
       "      <td>3225.0</td>\n",
       "      <td>53.737546</td>\n",
       "      <td>-0.999021</td>\n",
       "      <td>No</td>\n",
       "      <td>NaN</td>\n",
       "      <td>1974.0</td>\n",
       "      <td>2013.0</td>\n",
       "      <td>2013</td>\n",
       "    </tr>\n",
       "    <tr>\n",
       "      <th>402</th>\n",
       "      <td>Hinkley Point C</td>\n",
       "      <td>EDF Energy</td>\n",
       "      <td>Nuclear</td>\n",
       "      <td>NaN</td>\n",
       "      <td>3200.0</td>\n",
       "      <td>51.206000</td>\n",
       "      <td>-3.144000</td>\n",
       "      <td>Yes</td>\n",
       "      <td>NaN</td>\n",
       "      <td>2026.0</td>\n",
       "      <td>2019.0</td>\n",
       "      <td>2019</td>\n",
       "    </tr>\n",
       "  </tbody>\n",
       "</table>\n",
       "</div>"
      ],
      "text/plain": [
       "                site        operator     type fuelDetail  capacity   latitude  \\\n",
       "85              Drax  Drax Power Ltd     Coal        NaN    3870.0  53.737546   \n",
       "91         Drax coal  Drax Power Ltd     Coal        NaN    3225.0  53.737546   \n",
       "402  Hinkley Point C      EDF Energy  Nuclear        NaN    3200.0  51.206000   \n",
       "\n",
       "     longitude lowCarbon  chp  yearOpen  yearStart  yearEnd  \n",
       "85   -0.999021        No  NaN    1974.0     2004.0     2012  \n",
       "91   -0.999021        No  NaN    1974.0     2013.0     2013  \n",
       "402  -3.144000       Yes  NaN    2026.0     2019.0     2019  "
      ]
     },
     "execution_count": 15,
     "metadata": {},
     "output_type": "execute_result"
    }
   ],
   "source": [
    "#sort by capacity so smallest drawn last\n",
    "\n",
    "df3 = df2.sort_values(by=['capacity'], ascending=False)\n",
    "\n",
    "df3.head(3)"
   ]
  },
  {
   "cell_type": "code",
   "execution_count": 16,
   "metadata": {
    "scrolled": true
   },
   "outputs": [
    {
     "data": {
      "text/html": [
       "<div>\n",
       "<style scoped>\n",
       "    .dataframe tbody tr th:only-of-type {\n",
       "        vertical-align: middle;\n",
       "    }\n",
       "\n",
       "    .dataframe tbody tr th {\n",
       "        vertical-align: top;\n",
       "    }\n",
       "\n",
       "    .dataframe thead th {\n",
       "        text-align: right;\n",
       "    }\n",
       "</style>\n",
       "<table border=\"1\" class=\"dataframe\">\n",
       "  <thead>\n",
       "    <tr style=\"text-align: right;\">\n",
       "      <th></th>\n",
       "      <th>site</th>\n",
       "      <th>operator</th>\n",
       "      <th>type</th>\n",
       "      <th>fuelDetail</th>\n",
       "      <th>capacity</th>\n",
       "      <th>latitude</th>\n",
       "      <th>longitude</th>\n",
       "      <th>lowCarbon</th>\n",
       "      <th>chp</th>\n",
       "      <th>yearOpen</th>\n",
       "      <th>yearStart</th>\n",
       "      <th>yearEnd</th>\n",
       "    </tr>\n",
       "  </thead>\n",
       "  <tbody>\n",
       "    <tr>\n",
       "      <th>85</th>\n",
       "      <td>Drax</td>\n",
       "      <td>Drax Power Ltd</td>\n",
       "      <td>Coal</td>\n",
       "      <td>-</td>\n",
       "      <td>3870.0</td>\n",
       "      <td>53.737546</td>\n",
       "      <td>-0.999021</td>\n",
       "      <td>No</td>\n",
       "      <td>-</td>\n",
       "      <td>1974</td>\n",
       "      <td>2004.0</td>\n",
       "      <td>2012</td>\n",
       "    </tr>\n",
       "    <tr>\n",
       "      <th>91</th>\n",
       "      <td>Drax coal</td>\n",
       "      <td>Drax Power Ltd</td>\n",
       "      <td>Coal</td>\n",
       "      <td>-</td>\n",
       "      <td>3225.0</td>\n",
       "      <td>53.737546</td>\n",
       "      <td>-0.999021</td>\n",
       "      <td>No</td>\n",
       "      <td>-</td>\n",
       "      <td>1974</td>\n",
       "      <td>2013.0</td>\n",
       "      <td>2013</td>\n",
       "    </tr>\n",
       "    <tr>\n",
       "      <th>402</th>\n",
       "      <td>Hinkley Point C</td>\n",
       "      <td>EDF Energy</td>\n",
       "      <td>Nuclear</td>\n",
       "      <td>-</td>\n",
       "      <td>3200.0</td>\n",
       "      <td>51.206000</td>\n",
       "      <td>-3.144000</td>\n",
       "      <td>Yes</td>\n",
       "      <td>-</td>\n",
       "      <td>2026</td>\n",
       "      <td>2019.0</td>\n",
       "      <td>2019</td>\n",
       "    </tr>\n",
       "  </tbody>\n",
       "</table>\n",
       "</div>"
      ],
      "text/plain": [
       "                site        operator     type fuelDetail  capacity   latitude  \\\n",
       "85              Drax  Drax Power Ltd     Coal          -    3870.0  53.737546   \n",
       "91         Drax coal  Drax Power Ltd     Coal          -    3225.0  53.737546   \n",
       "402  Hinkley Point C      EDF Energy  Nuclear          -    3200.0  51.206000   \n",
       "\n",
       "     longitude lowCarbon chp yearOpen  yearStart  yearEnd  \n",
       "85   -0.999021        No   -     1974     2004.0     2012  \n",
       "91   -0.999021        No   -     1974     2013.0     2013  \n",
       "402  -3.144000       Yes   -     2026     2019.0     2019  "
      ]
     },
     "execution_count": 16,
     "metadata": {},
     "output_type": "execute_result"
    }
   ],
   "source": [
    "#replace gaps with hyphens\n",
    "\n",
    "df3 = df3.fillna(\"-\")\n",
    "df3.head(3)"
   ]
  },
  {
   "cell_type": "code",
   "execution_count": 17,
   "metadata": {},
   "outputs": [
    {
     "data": {
      "text/html": [
       "<div>\n",
       "<style scoped>\n",
       "    .dataframe tbody tr th:only-of-type {\n",
       "        vertical-align: middle;\n",
       "    }\n",
       "\n",
       "    .dataframe tbody tr th {\n",
       "        vertical-align: top;\n",
       "    }\n",
       "\n",
       "    .dataframe thead th {\n",
       "        text-align: right;\n",
       "    }\n",
       "</style>\n",
       "<table border=\"1\" class=\"dataframe\">\n",
       "  <thead>\n",
       "    <tr style=\"text-align: right;\">\n",
       "      <th></th>\n",
       "      <th>site</th>\n",
       "      <th>operator</th>\n",
       "      <th>type</th>\n",
       "      <th>fuelDetail</th>\n",
       "      <th>capacity</th>\n",
       "      <th>latitude</th>\n",
       "      <th>longitude</th>\n",
       "      <th>lowCarbon</th>\n",
       "      <th>chp</th>\n",
       "      <th>yearOpen</th>\n",
       "      <th>yearStart</th>\n",
       "      <th>yearEnd</th>\n",
       "    </tr>\n",
       "  </thead>\n",
       "  <tbody>\n",
       "    <tr>\n",
       "      <th>3019</th>\n",
       "      <td>JB Wheaton</td>\n",
       "      <td>E.On</td>\n",
       "      <td>Storage</td>\n",
       "      <td>Battery</td>\n",
       "      <td>0.005</td>\n",
       "      <td>50.840997</td>\n",
       "      <td>-2.935433</td>\n",
       "      <td>Yes</td>\n",
       "      <td>-</td>\n",
       "      <td>2016</td>\n",
       "      <td>2016.0</td>\n",
       "      <td>2019</td>\n",
       "    </tr>\n",
       "    <tr>\n",
       "      <th>2998</th>\n",
       "      <td>Flat Holm Microgrid Project</td>\n",
       "      <td>Wind &amp; Sun</td>\n",
       "      <td>Storage</td>\n",
       "      <td>Battery</td>\n",
       "      <td>0.005</td>\n",
       "      <td>51.378056</td>\n",
       "      <td>-3.122498</td>\n",
       "      <td>Yes</td>\n",
       "      <td>-</td>\n",
       "      <td>2006</td>\n",
       "      <td>2006.0</td>\n",
       "      <td>2019</td>\n",
       "    </tr>\n",
       "    <tr>\n",
       "      <th>196</th>\n",
       "      <td>Killingholme</td>\n",
       "      <td>Centrica</td>\n",
       "      <td>Gas</td>\n",
       "      <td>Combined cycle</td>\n",
       "      <td>0.000</td>\n",
       "      <td>53.653650</td>\n",
       "      <td>-0.255910</td>\n",
       "      <td>No</td>\n",
       "      <td>-</td>\n",
       "      <td>1994</td>\n",
       "      <td>2016.0</td>\n",
       "      <td>2016</td>\n",
       "    </tr>\n",
       "  </tbody>\n",
       "</table>\n",
       "</div>"
      ],
      "text/plain": [
       "                              site    operator     type      fuelDetail  \\\n",
       "3019                    JB Wheaton        E.On  Storage         Battery   \n",
       "2998  Flat Holm Microgrid Project   Wind & Sun  Storage         Battery   \n",
       "196                   Killingholme    Centrica      Gas  Combined cycle   \n",
       "\n",
       "      capacity   latitude  longitude lowCarbon chp yearOpen  yearStart  \\\n",
       "3019     0.005  50.840997  -2.935433       Yes   -     2016     2016.0   \n",
       "2998     0.005  51.378056  -3.122498       Yes   -     2006     2006.0   \n",
       "196      0.000  53.653650  -0.255910        No   -     1994     2016.0   \n",
       "\n",
       "      yearEnd  \n",
       "3019     2019  \n",
       "2998     2019  \n",
       "196      2016  "
      ]
     },
     "execution_count": 17,
     "metadata": {},
     "output_type": "execute_result"
    }
   ],
   "source": [
    "df3.tail(3)"
   ]
  },
  {
   "cell_type": "code",
   "execution_count": 18,
   "metadata": {},
   "outputs": [],
   "source": [
    "#begin process of converting to geojson\n",
    "\n",
    "import geopandas as gpd"
   ]
  },
  {
   "cell_type": "code",
   "execution_count": 19,
   "metadata": {},
   "outputs": [],
   "source": [
    "from geopandas import GeoDataFrame\n",
    "from shapely.geometry import Point"
   ]
  },
  {
   "cell_type": "code",
   "execution_count": 20,
   "metadata": {},
   "outputs": [
    {
     "data": {
      "text/html": [
       "<div>\n",
       "<style scoped>\n",
       "    .dataframe tbody tr th:only-of-type {\n",
       "        vertical-align: middle;\n",
       "    }\n",
       "\n",
       "    .dataframe tbody tr th {\n",
       "        vertical-align: top;\n",
       "    }\n",
       "\n",
       "    .dataframe thead th {\n",
       "        text-align: right;\n",
       "    }\n",
       "</style>\n",
       "<table border=\"1\" class=\"dataframe\">\n",
       "  <thead>\n",
       "    <tr style=\"text-align: right;\">\n",
       "      <th></th>\n",
       "      <th>site</th>\n",
       "      <th>operator</th>\n",
       "      <th>type</th>\n",
       "      <th>fuelDetail</th>\n",
       "      <th>capacity</th>\n",
       "      <th>lowCarbon</th>\n",
       "      <th>chp</th>\n",
       "      <th>yearOpen</th>\n",
       "      <th>yearStart</th>\n",
       "      <th>yearEnd</th>\n",
       "      <th>geometry</th>\n",
       "    </tr>\n",
       "  </thead>\n",
       "  <tbody>\n",
       "    <tr>\n",
       "      <th>85</th>\n",
       "      <td>Drax</td>\n",
       "      <td>Drax Power Ltd</td>\n",
       "      <td>Coal</td>\n",
       "      <td>-</td>\n",
       "      <td>3870.0</td>\n",
       "      <td>No</td>\n",
       "      <td>-</td>\n",
       "      <td>1974</td>\n",
       "      <td>2004.0</td>\n",
       "      <td>2012</td>\n",
       "      <td>POINT (-0.9990209999999999 53.73754599999999)</td>\n",
       "    </tr>\n",
       "    <tr>\n",
       "      <th>91</th>\n",
       "      <td>Drax coal</td>\n",
       "      <td>Drax Power Ltd</td>\n",
       "      <td>Coal</td>\n",
       "      <td>-</td>\n",
       "      <td>3225.0</td>\n",
       "      <td>No</td>\n",
       "      <td>-</td>\n",
       "      <td>1974</td>\n",
       "      <td>2013.0</td>\n",
       "      <td>2013</td>\n",
       "      <td>POINT (-0.9990209999999999 53.73754599999999)</td>\n",
       "    </tr>\n",
       "    <tr>\n",
       "      <th>402</th>\n",
       "      <td>Hinkley Point C</td>\n",
       "      <td>EDF Energy</td>\n",
       "      <td>Nuclear</td>\n",
       "      <td>-</td>\n",
       "      <td>3200.0</td>\n",
       "      <td>Yes</td>\n",
       "      <td>-</td>\n",
       "      <td>2026</td>\n",
       "      <td>2019.0</td>\n",
       "      <td>2019</td>\n",
       "      <td>POINT (-3.144 51.206)</td>\n",
       "    </tr>\n",
       "  </tbody>\n",
       "</table>\n",
       "</div>"
      ],
      "text/plain": [
       "                site        operator     type fuelDetail  capacity lowCarbon  \\\n",
       "85              Drax  Drax Power Ltd     Coal          -    3870.0        No   \n",
       "91         Drax coal  Drax Power Ltd     Coal          -    3225.0        No   \n",
       "402  Hinkley Point C      EDF Energy  Nuclear          -    3200.0       Yes   \n",
       "\n",
       "    chp yearOpen  yearStart  yearEnd  \\\n",
       "85    -     1974     2004.0     2012   \n",
       "91    -     1974     2013.0     2013   \n",
       "402   -     2026     2019.0     2019   \n",
       "\n",
       "                                          geometry  \n",
       "85   POINT (-0.9990209999999999 53.73754599999999)  \n",
       "91   POINT (-0.9990209999999999 53.73754599999999)  \n",
       "402                          POINT (-3.144 51.206)  "
      ]
     },
     "execution_count": 20,
     "metadata": {},
     "output_type": "execute_result"
    }
   ],
   "source": [
    "geometry = [Point(xy) for xy in zip(df3.longitude, df3.latitude)]\n",
    "df3 = df3.drop(['longitude', 'latitude'], axis=1)\n",
    "crs = {'init': 'epsg:4326'}\n",
    "gdf = GeoDataFrame(df3, crs=crs, geometry=geometry)\n",
    "gdf.head(3)"
   ]
  },
  {
   "cell_type": "code",
   "execution_count": 21,
   "metadata": {
    "scrolled": true
   },
   "outputs": [],
   "source": [
    "# NB need to delete old file before or throws error\n",
    "\n",
    "gdf.to_file(\"data/power_stations.json\", driver=\"GeoJSON\")"
   ]
  },
  {
   "cell_type": "code",
   "execution_count": null,
   "metadata": {},
   "outputs": [],
   "source": []
  }
 ],
 "metadata": {
  "kernelspec": {
   "display_name": "Python 3",
   "language": "python",
   "name": "python3"
  },
  "language_info": {
   "codemirror_mode": {
    "name": "ipython",
    "version": 3
   },
   "file_extension": ".py",
   "mimetype": "text/x-python",
   "name": "python",
   "nbconvert_exporter": "python",
   "pygments_lexer": "ipython3",
   "version": "3.6.5"
  }
 },
 "nbformat": 4,
 "nbformat_minor": 2
}
