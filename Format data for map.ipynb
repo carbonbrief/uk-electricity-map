{
 "cells": [
  {
   "cell_type": "code",
   "execution_count": 127,
   "metadata": {},
   "outputs": [],
   "source": [
    "import pandas as pd\n",
    "import numpy as np"
   ]
  },
  {
   "cell_type": "code",
   "execution_count": 128,
   "metadata": {},
   "outputs": [
    {
     "name": "stdout",
     "output_type": "stream",
     "text": [
      "/Users/rosamund/Documents/GitHub/uk-electricity-map\n"
     ]
    }
   ],
   "source": [
    "import os\n",
    "cwd = os.getcwd()\n",
    "print(cwd)"
   ]
  },
  {
   "cell_type": "code",
   "execution_count": 129,
   "metadata": {
    "scrolled": false
   },
   "outputs": [
    {
     "data": {
      "text/html": [
       "<div>\n",
       "<style scoped>\n",
       "    .dataframe tbody tr th:only-of-type {\n",
       "        vertical-align: middle;\n",
       "    }\n",
       "\n",
       "    .dataframe tbody tr th {\n",
       "        vertical-align: top;\n",
       "    }\n",
       "\n",
       "    .dataframe thead th {\n",
       "        text-align: right;\n",
       "    }\n",
       "</style>\n",
       "<table border=\"1\" class=\"dataframe\">\n",
       "  <thead>\n",
       "    <tr style=\"text-align: right;\">\n",
       "      <th></th>\n",
       "      <th>Site</th>\n",
       "      <th>Company</th>\n",
       "      <th>Fuel</th>\n",
       "      <th>Type</th>\n",
       "      <th>Capacity (MW)</th>\n",
       "      <th>Latitude</th>\n",
       "      <th>Longitude</th>\n",
       "      <th>Low-Carbon</th>\n",
       "      <th>CHP</th>\n",
       "      <th>Year Open</th>\n",
       "      <th>yearStart</th>\n",
       "      <th>yearEnd</th>\n",
       "    </tr>\n",
       "  </thead>\n",
       "  <tbody>\n",
       "    <tr>\n",
       "      <th>0</th>\n",
       "      <td>Aberdare District Energy</td>\n",
       "      <td>EDF Energy</td>\n",
       "      <td>Gas</td>\n",
       "      <td>NaN</td>\n",
       "      <td>10.0</td>\n",
       "      <td>51.697527</td>\n",
       "      <td>-3.416181</td>\n",
       "      <td>No</td>\n",
       "      <td>NaN</td>\n",
       "      <td>2002.0</td>\n",
       "      <td>2005</td>\n",
       "      <td>2014</td>\n",
       "    </tr>\n",
       "    <tr>\n",
       "      <th>1</th>\n",
       "      <td>Aberthaw B</td>\n",
       "      <td>RWE Npower Plc</td>\n",
       "      <td>Coal</td>\n",
       "      <td>NaN</td>\n",
       "      <td>1455.0</td>\n",
       "      <td>51.387006</td>\n",
       "      <td>-3.406215</td>\n",
       "      <td>No</td>\n",
       "      <td>NaN</td>\n",
       "      <td>1971.0</td>\n",
       "      <td>2004</td>\n",
       "      <td>2007</td>\n",
       "    </tr>\n",
       "    <tr>\n",
       "      <th>2</th>\n",
       "      <td>Aberthaw B</td>\n",
       "      <td>RWE Npower Plc</td>\n",
       "      <td>Coal</td>\n",
       "      <td>NaN</td>\n",
       "      <td>1586.0</td>\n",
       "      <td>51.387006</td>\n",
       "      <td>-3.406215</td>\n",
       "      <td>No</td>\n",
       "      <td>NaN</td>\n",
       "      <td>1971.0</td>\n",
       "      <td>2008</td>\n",
       "      <td>2017</td>\n",
       "    </tr>\n",
       "  </tbody>\n",
       "</table>\n",
       "</div>"
      ],
      "text/plain": [
       "                       Site         Company  Fuel Type  Capacity (MW)  \\\n",
       "0  Aberdare District Energy      EDF Energy   Gas  NaN           10.0   \n",
       "1                Aberthaw B  RWE Npower Plc  Coal  NaN         1455.0   \n",
       "2                Aberthaw B  RWE Npower Plc  Coal  NaN         1586.0   \n",
       "\n",
       "    Latitude  Longitude Low-Carbon  CHP  Year Open  yearStart  yearEnd  \n",
       "0  51.697527  -3.416181         No  NaN     2002.0       2005     2014  \n",
       "1  51.387006  -3.406215         No  NaN     1971.0       2004     2007  \n",
       "2  51.387006  -3.406215         No  NaN     1971.0       2008     2017  "
      ]
     },
     "execution_count": 129,
     "metadata": {},
     "output_type": "execute_result"
    }
   ],
   "source": [
    "df1 = pd.read_csv((cwd + \"/uk-map.csv\"))\n",
    "df1.head(3)"
   ]
  },
  {
   "cell_type": "code",
   "execution_count": 130,
   "metadata": {
    "scrolled": false
   },
   "outputs": [
    {
     "data": {
      "text/html": [
       "<div>\n",
       "<style scoped>\n",
       "    .dataframe tbody tr th:only-of-type {\n",
       "        vertical-align: middle;\n",
       "    }\n",
       "\n",
       "    .dataframe tbody tr th {\n",
       "        vertical-align: top;\n",
       "    }\n",
       "\n",
       "    .dataframe thead th {\n",
       "        text-align: right;\n",
       "    }\n",
       "</style>\n",
       "<table border=\"1\" class=\"dataframe\">\n",
       "  <thead>\n",
       "    <tr style=\"text-align: right;\">\n",
       "      <th></th>\n",
       "      <th>Site</th>\n",
       "      <th>Company</th>\n",
       "      <th>Fuel</th>\n",
       "      <th>Type</th>\n",
       "      <th>Capacity (MW)</th>\n",
       "      <th>Latitude</th>\n",
       "      <th>Longitude</th>\n",
       "      <th>Low-Carbon</th>\n",
       "      <th>CHP</th>\n",
       "      <th>Year Open</th>\n",
       "      <th>yearStart</th>\n",
       "      <th>yearEnd</th>\n",
       "    </tr>\n",
       "  </thead>\n",
       "  <tbody>\n",
       "    <tr>\n",
       "      <th>6799</th>\n",
       "      <td>Westhampnett Solar Farm Battery Storage</td>\n",
       "      <td>West Sussex County Council (100%)</td>\n",
       "      <td>Storage</td>\n",
       "      <td>Battery</td>\n",
       "      <td>4.4</td>\n",
       "      <td>50.8469</td>\n",
       "      <td>-0.745574</td>\n",
       "      <td>Yes</td>\n",
       "      <td>No</td>\n",
       "      <td>2018.0</td>\n",
       "      <td>2018</td>\n",
       "      <td>2019</td>\n",
       "    </tr>\n",
       "    <tr>\n",
       "      <th>6800</th>\n",
       "      <td>Willenhall Battery Storage Demonstration</td>\n",
       "      <td>University of Sheffield (100%)</td>\n",
       "      <td>Storage</td>\n",
       "      <td>Battery</td>\n",
       "      <td>1.0</td>\n",
       "      <td>52.5778</td>\n",
       "      <td>-2.049130</td>\n",
       "      <td>Yes</td>\n",
       "      <td>No</td>\n",
       "      <td>2016.0</td>\n",
       "      <td>2016</td>\n",
       "      <td>2019</td>\n",
       "    </tr>\n",
       "    <tr>\n",
       "      <th>6801</th>\n",
       "      <td>Willersey Energy Storage Facility</td>\n",
       "      <td>Belectric (100%)</td>\n",
       "      <td>Storage</td>\n",
       "      <td>Battery</td>\n",
       "      <td>1.4</td>\n",
       "      <td>52.0655</td>\n",
       "      <td>-1.849880</td>\n",
       "      <td>Yes</td>\n",
       "      <td>No</td>\n",
       "      <td>2017.0</td>\n",
       "      <td>2017</td>\n",
       "      <td>2019</td>\n",
       "    </tr>\n",
       "  </tbody>\n",
       "</table>\n",
       "</div>"
      ],
      "text/plain": [
       "                                          Site  \\\n",
       "6799   Westhampnett Solar Farm Battery Storage   \n",
       "6800  Willenhall Battery Storage Demonstration   \n",
       "6801         Willersey Energy Storage Facility   \n",
       "\n",
       "                                Company     Fuel     Type  Capacity (MW)  \\\n",
       "6799  West Sussex County Council (100%)  Storage  Battery            4.4   \n",
       "6800     University of Sheffield (100%)  Storage  Battery            1.0   \n",
       "6801                   Belectric (100%)  Storage  Battery            1.4   \n",
       "\n",
       "      Latitude  Longitude Low-Carbon CHP  Year Open  yearStart  yearEnd  \n",
       "6799   50.8469  -0.745574        Yes  No     2018.0       2018     2019  \n",
       "6800   52.5778  -2.049130        Yes  No     2016.0       2016     2019  \n",
       "6801   52.0655  -1.849880        Yes  No     2017.0       2017     2019  "
      ]
     },
     "execution_count": 130,
     "metadata": {},
     "output_type": "execute_result"
    }
   ],
   "source": [
    "df1.tail(3)"
   ]
  },
  {
   "cell_type": "code",
   "execution_count": 131,
   "metadata": {},
   "outputs": [
    {
     "data": {
      "text/plain": [
       "(6802, 12)"
      ]
     },
     "execution_count": 131,
     "metadata": {},
     "output_type": "execute_result"
    }
   ],
   "source": [
    "#think appearance of excess rows may due to Simon's treament of the data carrying across\n",
    "#update: it's an issue with how Simon exported the CSV at row 1770\n",
    "\n",
    "df1.shape"
   ]
  },
  {
   "cell_type": "code",
   "execution_count": 132,
   "metadata": {
    "scrolled": true
   },
   "outputs": [
    {
     "data": {
      "text/html": [
       "<div>\n",
       "<style scoped>\n",
       "    .dataframe tbody tr th:only-of-type {\n",
       "        vertical-align: middle;\n",
       "    }\n",
       "\n",
       "    .dataframe tbody tr th {\n",
       "        vertical-align: top;\n",
       "    }\n",
       "\n",
       "    .dataframe thead th {\n",
       "        text-align: right;\n",
       "    }\n",
       "</style>\n",
       "<table border=\"1\" class=\"dataframe\">\n",
       "  <thead>\n",
       "    <tr style=\"text-align: right;\">\n",
       "      <th></th>\n",
       "      <th>Site</th>\n",
       "      <th>Company</th>\n",
       "      <th>Fuel</th>\n",
       "      <th>Type</th>\n",
       "      <th>Capacity (MW)</th>\n",
       "      <th>Latitude</th>\n",
       "      <th>Longitude</th>\n",
       "      <th>Low-Carbon</th>\n",
       "      <th>CHP</th>\n",
       "      <th>Year Open</th>\n",
       "      <th>yearStart</th>\n",
       "      <th>yearEnd</th>\n",
       "    </tr>\n",
       "  </thead>\n",
       "  <tbody>\n",
       "    <tr>\n",
       "      <th>6799</th>\n",
       "      <td>Westhampnett Solar Farm Battery Storage</td>\n",
       "      <td>West Sussex County Council (100%)</td>\n",
       "      <td>Storage</td>\n",
       "      <td>Battery</td>\n",
       "      <td>4.4</td>\n",
       "      <td>50.8469</td>\n",
       "      <td>-0.745574</td>\n",
       "      <td>Yes</td>\n",
       "      <td>No</td>\n",
       "      <td>2018.0</td>\n",
       "      <td>2018</td>\n",
       "      <td>2019</td>\n",
       "    </tr>\n",
       "    <tr>\n",
       "      <th>6800</th>\n",
       "      <td>Willenhall Battery Storage Demonstration</td>\n",
       "      <td>University of Sheffield (100%)</td>\n",
       "      <td>Storage</td>\n",
       "      <td>Battery</td>\n",
       "      <td>1.0</td>\n",
       "      <td>52.5778</td>\n",
       "      <td>-2.049130</td>\n",
       "      <td>Yes</td>\n",
       "      <td>No</td>\n",
       "      <td>2016.0</td>\n",
       "      <td>2016</td>\n",
       "      <td>2019</td>\n",
       "    </tr>\n",
       "    <tr>\n",
       "      <th>6801</th>\n",
       "      <td>Willersey Energy Storage Facility</td>\n",
       "      <td>Belectric (100%)</td>\n",
       "      <td>Storage</td>\n",
       "      <td>Battery</td>\n",
       "      <td>1.4</td>\n",
       "      <td>52.0655</td>\n",
       "      <td>-1.849880</td>\n",
       "      <td>Yes</td>\n",
       "      <td>No</td>\n",
       "      <td>2017.0</td>\n",
       "      <td>2017</td>\n",
       "      <td>2019</td>\n",
       "    </tr>\n",
       "  </tbody>\n",
       "</table>\n",
       "</div>"
      ],
      "text/plain": [
       "                                          Site  \\\n",
       "6799   Westhampnett Solar Farm Battery Storage   \n",
       "6800  Willenhall Battery Storage Demonstration   \n",
       "6801         Willersey Energy Storage Facility   \n",
       "\n",
       "                                Company     Fuel     Type  Capacity (MW)  \\\n",
       "6799  West Sussex County Council (100%)  Storage  Battery            4.4   \n",
       "6800     University of Sheffield (100%)  Storage  Battery            1.0   \n",
       "6801                   Belectric (100%)  Storage  Battery            1.4   \n",
       "\n",
       "      Latitude  Longitude Low-Carbon CHP  Year Open  yearStart  yearEnd  \n",
       "6799   50.8469  -0.745574        Yes  No     2018.0       2018     2019  \n",
       "6800   52.5778  -2.049130        Yes  No     2016.0       2016     2019  \n",
       "6801   52.0655  -1.849880        Yes  No     2017.0       2017     2019  "
      ]
     },
     "execution_count": 132,
     "metadata": {},
     "output_type": "execute_result"
    }
   ],
   "source": [
    "df1.tail(3)"
   ]
  },
  {
   "cell_type": "code",
   "execution_count": 133,
   "metadata": {},
   "outputs": [
    {
     "data": {
      "text/html": [
       "<div>\n",
       "<style scoped>\n",
       "    .dataframe tbody tr th:only-of-type {\n",
       "        vertical-align: middle;\n",
       "    }\n",
       "\n",
       "    .dataframe tbody tr th {\n",
       "        vertical-align: top;\n",
       "    }\n",
       "\n",
       "    .dataframe thead th {\n",
       "        text-align: right;\n",
       "    }\n",
       "</style>\n",
       "<table border=\"1\" class=\"dataframe\">\n",
       "  <thead>\n",
       "    <tr style=\"text-align: right;\">\n",
       "      <th></th>\n",
       "      <th>site</th>\n",
       "      <th>operator</th>\n",
       "      <th>type</th>\n",
       "      <th>fuelDetail</th>\n",
       "      <th>capacity</th>\n",
       "      <th>latitude</th>\n",
       "      <th>longitude</th>\n",
       "      <th>lowCarbon</th>\n",
       "      <th>chp</th>\n",
       "      <th>yearOpen</th>\n",
       "      <th>yearStart</th>\n",
       "      <th>yearEnd</th>\n",
       "    </tr>\n",
       "  </thead>\n",
       "  <tbody>\n",
       "    <tr>\n",
       "      <th>0</th>\n",
       "      <td>Aberdare District Energy</td>\n",
       "      <td>EDF Energy</td>\n",
       "      <td>Gas</td>\n",
       "      <td>NaN</td>\n",
       "      <td>10.0</td>\n",
       "      <td>51.697527</td>\n",
       "      <td>-3.416181</td>\n",
       "      <td>No</td>\n",
       "      <td>NaN</td>\n",
       "      <td>2002.0</td>\n",
       "      <td>2005</td>\n",
       "      <td>2014</td>\n",
       "    </tr>\n",
       "    <tr>\n",
       "      <th>1</th>\n",
       "      <td>Aberthaw B</td>\n",
       "      <td>RWE Npower Plc</td>\n",
       "      <td>Coal</td>\n",
       "      <td>NaN</td>\n",
       "      <td>1455.0</td>\n",
       "      <td>51.387006</td>\n",
       "      <td>-3.406215</td>\n",
       "      <td>No</td>\n",
       "      <td>NaN</td>\n",
       "      <td>1971.0</td>\n",
       "      <td>2004</td>\n",
       "      <td>2007</td>\n",
       "    </tr>\n",
       "    <tr>\n",
       "      <th>2</th>\n",
       "      <td>Aberthaw B</td>\n",
       "      <td>RWE Npower Plc</td>\n",
       "      <td>Coal</td>\n",
       "      <td>NaN</td>\n",
       "      <td>1586.0</td>\n",
       "      <td>51.387006</td>\n",
       "      <td>-3.406215</td>\n",
       "      <td>No</td>\n",
       "      <td>NaN</td>\n",
       "      <td>1971.0</td>\n",
       "      <td>2008</td>\n",
       "      <td>2017</td>\n",
       "    </tr>\n",
       "  </tbody>\n",
       "</table>\n",
       "</div>"
      ],
      "text/plain": [
       "                       site        operator  type fuelDetail  capacity  \\\n",
       "0  Aberdare District Energy      EDF Energy   Gas        NaN      10.0   \n",
       "1                Aberthaw B  RWE Npower Plc  Coal        NaN    1455.0   \n",
       "2                Aberthaw B  RWE Npower Plc  Coal        NaN    1586.0   \n",
       "\n",
       "    latitude  longitude lowCarbon  chp  yearOpen  yearStart  yearEnd  \n",
       "0  51.697527  -3.416181        No  NaN    2002.0       2005     2014  \n",
       "1  51.387006  -3.406215        No  NaN    1971.0       2004     2007  \n",
       "2  51.387006  -3.406215        No  NaN    1971.0       2008     2017  "
      ]
     },
     "execution_count": 133,
     "metadata": {},
     "output_type": "execute_result"
    }
   ],
   "source": [
    "df2 = df1.rename(index=str, columns={\"Site\": \"site\", \"Company\": \"operator\", \"Fuel\": \"type\", \"Type\": \"fuelDetail\", \"Capacity (MW)\": \"capacity\", \"Latitude\": \"latitude\", \"Longitude\": \"longitude\", \"Low-Carbon\": \"lowCarbon\", \"CHP\": \"chp\", \"Year Open\": \"yearOpen\", \"yearStart\": \"yearStart\", \"yearEnd\": \"yearEnd\"})\n",
    "df2.head(3)"
   ]
  },
  {
   "cell_type": "code",
   "execution_count": 134,
   "metadata": {},
   "outputs": [
    {
     "data": {
      "text/html": [
       "<div>\n",
       "<style scoped>\n",
       "    .dataframe tbody tr th:only-of-type {\n",
       "        vertical-align: middle;\n",
       "    }\n",
       "\n",
       "    .dataframe tbody tr th {\n",
       "        vertical-align: top;\n",
       "    }\n",
       "\n",
       "    .dataframe thead th {\n",
       "        text-align: right;\n",
       "    }\n",
       "</style>\n",
       "<table border=\"1\" class=\"dataframe\">\n",
       "  <thead>\n",
       "    <tr style=\"text-align: right;\">\n",
       "      <th></th>\n",
       "      <th>site</th>\n",
       "      <th>operator</th>\n",
       "      <th>type</th>\n",
       "      <th>fuelDetail</th>\n",
       "      <th>capacity</th>\n",
       "      <th>latitude</th>\n",
       "      <th>longitude</th>\n",
       "      <th>lowCarbon</th>\n",
       "      <th>chp</th>\n",
       "      <th>yearOpen</th>\n",
       "      <th>yearStart</th>\n",
       "      <th>yearEnd</th>\n",
       "    </tr>\n",
       "  </thead>\n",
       "  <tbody>\n",
       "    <tr>\n",
       "      <th>6799</th>\n",
       "      <td>Westhampnett Solar Farm Battery Storage</td>\n",
       "      <td>West Sussex County Council (100%)</td>\n",
       "      <td>Storage</td>\n",
       "      <td>Battery</td>\n",
       "      <td>4.4</td>\n",
       "      <td>50.8469</td>\n",
       "      <td>-0.745574</td>\n",
       "      <td>Yes</td>\n",
       "      <td>No</td>\n",
       "      <td>2018.0</td>\n",
       "      <td>2018</td>\n",
       "      <td>2019</td>\n",
       "    </tr>\n",
       "    <tr>\n",
       "      <th>6800</th>\n",
       "      <td>Willenhall Battery Storage Demonstration</td>\n",
       "      <td>University of Sheffield (100%)</td>\n",
       "      <td>Storage</td>\n",
       "      <td>Battery</td>\n",
       "      <td>1.0</td>\n",
       "      <td>52.5778</td>\n",
       "      <td>-2.049130</td>\n",
       "      <td>Yes</td>\n",
       "      <td>No</td>\n",
       "      <td>2016.0</td>\n",
       "      <td>2016</td>\n",
       "      <td>2019</td>\n",
       "    </tr>\n",
       "    <tr>\n",
       "      <th>6801</th>\n",
       "      <td>Willersey Energy Storage Facility</td>\n",
       "      <td>Belectric (100%)</td>\n",
       "      <td>Storage</td>\n",
       "      <td>Battery</td>\n",
       "      <td>1.4</td>\n",
       "      <td>52.0655</td>\n",
       "      <td>-1.849880</td>\n",
       "      <td>Yes</td>\n",
       "      <td>No</td>\n",
       "      <td>2017.0</td>\n",
       "      <td>2017</td>\n",
       "      <td>2019</td>\n",
       "    </tr>\n",
       "  </tbody>\n",
       "</table>\n",
       "</div>"
      ],
      "text/plain": [
       "                                          site  \\\n",
       "6799   Westhampnett Solar Farm Battery Storage   \n",
       "6800  Willenhall Battery Storage Demonstration   \n",
       "6801         Willersey Energy Storage Facility   \n",
       "\n",
       "                               operator     type fuelDetail  capacity  \\\n",
       "6799  West Sussex County Council (100%)  Storage    Battery       4.4   \n",
       "6800     University of Sheffield (100%)  Storage    Battery       1.0   \n",
       "6801                   Belectric (100%)  Storage    Battery       1.4   \n",
       "\n",
       "      latitude  longitude lowCarbon chp  yearOpen  yearStart  yearEnd  \n",
       "6799   50.8469  -0.745574       Yes  No    2018.0       2018     2019  \n",
       "6800   52.5778  -2.049130       Yes  No    2016.0       2016     2019  \n",
       "6801   52.0655  -1.849880       Yes  No    2017.0       2017     2019  "
      ]
     },
     "execution_count": 134,
     "metadata": {},
     "output_type": "execute_result"
    }
   ],
   "source": [
    "df2.tail(3)"
   ]
  },
  {
   "cell_type": "code",
   "execution_count": 135,
   "metadata": {},
   "outputs": [
    {
     "data": {
      "text/plain": [
       "69"
      ]
     },
     "execution_count": 135,
     "metadata": {},
     "output_type": "execute_result"
    }
   ],
   "source": [
    "#find out if any nulls for long/lat\n",
    "sum(df2['longitude'].isna())"
   ]
  },
  {
   "cell_type": "code",
   "execution_count": 136,
   "metadata": {},
   "outputs": [
    {
     "data": {
      "text/plain": [
       "0"
      ]
     },
     "execution_count": 136,
     "metadata": {},
     "output_type": "execute_result"
    }
   ],
   "source": [
    "#drop rows where longitude is blank\n",
    "\n",
    "df2 = df2.dropna(subset=['longitude'])\n",
    "sum(df2['longitude'].isna())"
   ]
  },
  {
   "cell_type": "code",
   "execution_count": 137,
   "metadata": {},
   "outputs": [
    {
     "data": {
      "text/plain": [
       "0"
      ]
     },
     "execution_count": 137,
     "metadata": {},
     "output_type": "execute_result"
    }
   ],
   "source": [
    "#check latitude doesn't have NaN either\n",
    "\n",
    "sum(df2['latitude'].isna())"
   ]
  },
  {
   "cell_type": "code",
   "execution_count": 138,
   "metadata": {},
   "outputs": [
    {
     "data": {
      "text/plain": [
       "(6733, 12)"
      ]
     },
     "execution_count": 138,
     "metadata": {},
     "output_type": "execute_result"
    }
   ],
   "source": [
    "#shape as expected\n",
    "df2.shape"
   ]
  },
  {
   "cell_type": "code",
   "execution_count": 119,
   "metadata": {},
   "outputs": [],
   "source": [
    "#replace gaps with hyphens\n",
    "\n",
    "df2 = df2.fillna(\"-\")"
   ]
  },
  {
   "cell_type": "code",
   "execution_count": 120,
   "metadata": {},
   "outputs": [],
   "source": [
    " df2.to_csv('uk-map-edit.csv', index=False)"
   ]
  },
  {
   "cell_type": "code",
   "execution_count": 121,
   "metadata": {},
   "outputs": [],
   "source": [
    "#begin process of converting to geojson\n",
    "\n",
    "import geopandas as gpd"
   ]
  },
  {
   "cell_type": "code",
   "execution_count": 122,
   "metadata": {},
   "outputs": [],
   "source": [
    "from geopandas import GeoDataFrame\n",
    "from shapely.geometry import Point"
   ]
  },
  {
   "cell_type": "code",
   "execution_count": 123,
   "metadata": {},
   "outputs": [
    {
     "data": {
      "text/html": [
       "<div>\n",
       "<style scoped>\n",
       "    .dataframe tbody tr th:only-of-type {\n",
       "        vertical-align: middle;\n",
       "    }\n",
       "\n",
       "    .dataframe tbody tr th {\n",
       "        vertical-align: top;\n",
       "    }\n",
       "\n",
       "    .dataframe thead th {\n",
       "        text-align: right;\n",
       "    }\n",
       "</style>\n",
       "<table border=\"1\" class=\"dataframe\">\n",
       "  <thead>\n",
       "    <tr style=\"text-align: right;\">\n",
       "      <th></th>\n",
       "      <th>site</th>\n",
       "      <th>operator</th>\n",
       "      <th>type</th>\n",
       "      <th>fuelDetail</th>\n",
       "      <th>capacity</th>\n",
       "      <th>lowCarbon</th>\n",
       "      <th>chp</th>\n",
       "      <th>yearOpen</th>\n",
       "      <th>yearStart</th>\n",
       "      <th>yearEnd</th>\n",
       "      <th>geometry</th>\n",
       "    </tr>\n",
       "  </thead>\n",
       "  <tbody>\n",
       "    <tr>\n",
       "      <th>0</th>\n",
       "      <td>Aberdare District Energy</td>\n",
       "      <td>EDF Energy</td>\n",
       "      <td>Gas</td>\n",
       "      <td>-</td>\n",
       "      <td>10.0</td>\n",
       "      <td>No</td>\n",
       "      <td>-</td>\n",
       "      <td>2002</td>\n",
       "      <td>2005</td>\n",
       "      <td>2014</td>\n",
       "      <td>POINT (-3.416181 51.697527)</td>\n",
       "    </tr>\n",
       "    <tr>\n",
       "      <th>1</th>\n",
       "      <td>Aberthaw B</td>\n",
       "      <td>RWE Npower Plc</td>\n",
       "      <td>Coal</td>\n",
       "      <td>-</td>\n",
       "      <td>1455.0</td>\n",
       "      <td>No</td>\n",
       "      <td>-</td>\n",
       "      <td>1971</td>\n",
       "      <td>2004</td>\n",
       "      <td>2007</td>\n",
       "      <td>POINT (-3.406215 51.387006)</td>\n",
       "    </tr>\n",
       "    <tr>\n",
       "      <th>2</th>\n",
       "      <td>Aberthaw B</td>\n",
       "      <td>RWE Npower Plc</td>\n",
       "      <td>Coal</td>\n",
       "      <td>-</td>\n",
       "      <td>1586.0</td>\n",
       "      <td>No</td>\n",
       "      <td>-</td>\n",
       "      <td>1971</td>\n",
       "      <td>2008</td>\n",
       "      <td>2017</td>\n",
       "      <td>POINT (-3.406215 51.387006)</td>\n",
       "    </tr>\n",
       "  </tbody>\n",
       "</table>\n",
       "</div>"
      ],
      "text/plain": [
       "                       site        operator  type fuelDetail  capacity  \\\n",
       "0  Aberdare District Energy      EDF Energy   Gas          -      10.0   \n",
       "1                Aberthaw B  RWE Npower Plc  Coal          -    1455.0   \n",
       "2                Aberthaw B  RWE Npower Plc  Coal          -    1586.0   \n",
       "\n",
       "  lowCarbon chp yearOpen  yearStart  yearEnd                     geometry  \n",
       "0        No   -     2002       2005     2014  POINT (-3.416181 51.697527)  \n",
       "1        No   -     1971       2004     2007  POINT (-3.406215 51.387006)  \n",
       "2        No   -     1971       2008     2017  POINT (-3.406215 51.387006)  "
      ]
     },
     "execution_count": 123,
     "metadata": {},
     "output_type": "execute_result"
    }
   ],
   "source": [
    "geometry = [Point(xy) for xy in zip(df2.longitude, df2.latitude)]\n",
    "df2 = df2.drop(['longitude', 'latitude'], axis=1)\n",
    "crs = {'init': 'epsg:4326'}\n",
    "gdf = GeoDataFrame(df2, crs=crs, geometry=geometry)\n",
    "gdf.head(3)"
   ]
  },
  {
   "cell_type": "code",
   "execution_count": 124,
   "metadata": {},
   "outputs": [],
   "source": [
    "gdf.to_file(\"data/power_stations.json\", driver=\"GeoJSON\")"
   ]
  },
  {
   "cell_type": "code",
   "execution_count": null,
   "metadata": {},
   "outputs": [],
   "source": []
  }
 ],
 "metadata": {
  "kernelspec": {
   "display_name": "Python 3",
   "language": "python",
   "name": "python3"
  },
  "language_info": {
   "codemirror_mode": {
    "name": "ipython",
    "version": 3
   },
   "file_extension": ".py",
   "mimetype": "text/x-python",
   "name": "python",
   "nbconvert_exporter": "python",
   "pygments_lexer": "ipython3",
   "version": "3.6.5"
  }
 },
 "nbformat": 4,
 "nbformat_minor": 2
}
